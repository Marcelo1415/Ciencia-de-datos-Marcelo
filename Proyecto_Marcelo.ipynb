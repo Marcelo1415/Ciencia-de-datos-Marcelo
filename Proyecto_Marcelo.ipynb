{
 "cells": [
  {
   "cell_type": "code",
   "execution_count": 11,
   "metadata": {},
   "outputs": [
    {
     "name": "stdout",
     "output_type": "stream",
     "text": [
      "🟢 Tesla - Datos históricos de acciones:\n"
     ]
    },
    {
     "data": {
      "text/html": [
       "<div>\n",
       "<style scoped>\n",
       "    .dataframe tbody tr th:only-of-type {\n",
       "        vertical-align: middle;\n",
       "    }\n",
       "\n",
       "    .dataframe tbody tr th {\n",
       "        vertical-align: top;\n",
       "    }\n",
       "\n",
       "    .dataframe thead th {\n",
       "        text-align: right;\n",
       "    }\n",
       "</style>\n",
       "<table border=\"1\" class=\"dataframe\">\n",
       "  <thead>\n",
       "    <tr style=\"text-align: right;\">\n",
       "      <th></th>\n",
       "      <th>Date</th>\n",
       "      <th>Open</th>\n",
       "      <th>High</th>\n",
       "      <th>Low</th>\n",
       "      <th>Close</th>\n",
       "      <th>Volume</th>\n",
       "      <th>Dividends</th>\n",
       "      <th>Stock Splits</th>\n",
       "    </tr>\n",
       "  </thead>\n",
       "  <tbody>\n",
       "    <tr>\n",
       "      <th>0</th>\n",
       "      <td>2010-06-29 00:00:00-04:00</td>\n",
       "      <td>1.266667</td>\n",
       "      <td>1.666667</td>\n",
       "      <td>1.169333</td>\n",
       "      <td>1.592667</td>\n",
       "      <td>281494500</td>\n",
       "      <td>0.0</td>\n",
       "      <td>0.0</td>\n",
       "    </tr>\n",
       "    <tr>\n",
       "      <th>1</th>\n",
       "      <td>2010-06-30 00:00:00-04:00</td>\n",
       "      <td>1.719333</td>\n",
       "      <td>2.028000</td>\n",
       "      <td>1.553333</td>\n",
       "      <td>1.588667</td>\n",
       "      <td>257806500</td>\n",
       "      <td>0.0</td>\n",
       "      <td>0.0</td>\n",
       "    </tr>\n",
       "    <tr>\n",
       "      <th>2</th>\n",
       "      <td>2010-07-01 00:00:00-04:00</td>\n",
       "      <td>1.666667</td>\n",
       "      <td>1.728000</td>\n",
       "      <td>1.351333</td>\n",
       "      <td>1.464000</td>\n",
       "      <td>123282000</td>\n",
       "      <td>0.0</td>\n",
       "      <td>0.0</td>\n",
       "    </tr>\n",
       "    <tr>\n",
       "      <th>3</th>\n",
       "      <td>2010-07-02 00:00:00-04:00</td>\n",
       "      <td>1.533333</td>\n",
       "      <td>1.540000</td>\n",
       "      <td>1.247333</td>\n",
       "      <td>1.280000</td>\n",
       "      <td>77097000</td>\n",
       "      <td>0.0</td>\n",
       "      <td>0.0</td>\n",
       "    </tr>\n",
       "    <tr>\n",
       "      <th>4</th>\n",
       "      <td>2010-07-06 00:00:00-04:00</td>\n",
       "      <td>1.333333</td>\n",
       "      <td>1.333333</td>\n",
       "      <td>1.055333</td>\n",
       "      <td>1.074000</td>\n",
       "      <td>103003500</td>\n",
       "      <td>0.0</td>\n",
       "      <td>0.0</td>\n",
       "    </tr>\n",
       "  </tbody>\n",
       "</table>\n",
       "</div>"
      ],
      "text/plain": [
       "                       Date      Open      High       Low     Close  \\\n",
       "0 2010-06-29 00:00:00-04:00  1.266667  1.666667  1.169333  1.592667   \n",
       "1 2010-06-30 00:00:00-04:00  1.719333  2.028000  1.553333  1.588667   \n",
       "2 2010-07-01 00:00:00-04:00  1.666667  1.728000  1.351333  1.464000   \n",
       "3 2010-07-02 00:00:00-04:00  1.533333  1.540000  1.247333  1.280000   \n",
       "4 2010-07-06 00:00:00-04:00  1.333333  1.333333  1.055333  1.074000   \n",
       "\n",
       "      Volume  Dividends  Stock Splits  \n",
       "0  281494500        0.0           0.0  \n",
       "1  257806500        0.0           0.0  \n",
       "2  123282000        0.0           0.0  \n",
       "3   77097000        0.0           0.0  \n",
       "4  103003500        0.0           0.0  "
      ]
     },
     "metadata": {},
     "output_type": "display_data"
    }
   ],
   "source": [
    "# Pregunta 1 - Obtener datos históricos de Tesla\n",
    "import yfinance as yf\n",
    "import pandas as pd\n",
    "\n",
    "tesla = yf.Ticker(\"TSLA\")\n",
    "tesla_data = tesla.history(period=\"max\")\n",
    "\n",
    "# Restablecer índice para tener la columna Date visible\n",
    "tesla_data.reset_index(inplace=True)\n",
    "\n",
    "# Mostrar primeras 5 filas como pide la Pregunta 1\n",
    "print(\"🟢 Tesla - Datos históricos de acciones:\")\n",
    "display(tesla_data.head())\n"
   ]
  },
  {
   "cell_type": "code",
   "execution_count": 7,
   "metadata": {},
   "outputs": [
    {
     "name": "stdout",
     "output_type": "stream",
     "text": [
      "🔍 Se encontraron 6 tablas.\n",
      "\n",
      "🔎 Vista previa de tabla 0:\n",
      "   Tesla Annual Revenue (Millions of US $)  \\\n",
      "0                                     2021   \n",
      "1                                     2020   \n",
      "2                                     2019   \n",
      "\n",
      "  Tesla Annual Revenue (Millions of US $).1  \n",
      "0                                   $53,823  \n",
      "1                                   $31,536  \n",
      "2                                   $24,578  \n",
      "\n",
      "🔎 Vista previa de tabla 1:\n",
      "  Tesla Quarterly Revenue (Millions of US $)  \\\n",
      "0                                 2022-09-30   \n",
      "1                                 2022-06-30   \n",
      "2                                 2022-03-31   \n",
      "\n",
      "  Tesla Quarterly Revenue (Millions of US $).1  \n",
      "0                                      $21,454  \n",
      "1                                      $16,934  \n",
      "2                                      $18,756  \n",
      "\n",
      "🔎 Vista previa de tabla 2:\n",
      "                                              Sector  \\\n",
      "0                                  Auto/Tires/Trucks   \n",
      "1  Tesla is the market leader in battery-powered ...   \n",
      "\n",
      "                                            Industry  \\\n",
      "0                      Auto Manufacturers - Domestic   \n",
      "1  Tesla is the market leader in battery-powered ...   \n",
      "\n",
      "                                          Market Cap  \\\n",
      "0                                          $549.575B   \n",
      "1  Tesla is the market leader in battery-powered ...   \n",
      "\n",
      "                                             Revenue  \n",
      "0                                           $53.823B  \n",
      "1  Tesla is the market leader in battery-powered ...  \n",
      "\n",
      "🔎 Vista previa de tabla 3:\n",
      "              Stock Name        Country Market Cap  PE Ratio\n",
      "0    General Motors (GM)  United States   $53.930B      5.56\n",
      "1         Ford Motor (F)  United States   $52.668B      8.09\n",
      "2  Harley-Davidson (HOG)  United States    $6.762B      9.56\n",
      "\n",
      "🔎 Vista previa de tabla 4:\n",
      "                     Link Preview  HTML Code (Click to Copy)\n",
      "0  Tesla Revenue 2010-2022 | TSLA                        NaN\n",
      "1                     Macrotrends                        NaN\n",
      "2                          Source                        NaN\n",
      "\n",
      "🔎 Vista previa de tabla 5:\n",
      "                     Link Preview  HTML Code (Click to Copy)\n",
      "0  Tesla Revenue 2010-2022 | TSLA                        NaN\n",
      "1                     Macrotrends                        NaN\n",
      "2                          Source                        NaN\n",
      "\n",
      "✅ Tabla de ingresos de Tesla encontrada.\n",
      "🟢 Últimas 5 filas:\n"
     ]
    },
    {
     "name": "stderr",
     "output_type": "stream",
     "text": [
      "C:\\Users\\mmari\\AppData\\Local\\Temp\\ipykernel_18516\\2016220777.py:19: FutureWarning: Passing literal html to 'read_html' is deprecated and will be removed in a future version. To read from a literal string, wrap it in a 'StringIO' object.\n",
      "  df_temp = pd.read_html(str(table))[0]\n",
      "C:\\Users\\mmari\\AppData\\Local\\Temp\\ipykernel_18516\\2016220777.py:19: FutureWarning: Passing literal html to 'read_html' is deprecated and will be removed in a future version. To read from a literal string, wrap it in a 'StringIO' object.\n",
      "  df_temp = pd.read_html(str(table))[0]\n",
      "C:\\Users\\mmari\\AppData\\Local\\Temp\\ipykernel_18516\\2016220777.py:19: FutureWarning: Passing literal html to 'read_html' is deprecated and will be removed in a future version. To read from a literal string, wrap it in a 'StringIO' object.\n",
      "  df_temp = pd.read_html(str(table))[0]\n",
      "C:\\Users\\mmari\\AppData\\Local\\Temp\\ipykernel_18516\\2016220777.py:19: FutureWarning: Passing literal html to 'read_html' is deprecated and will be removed in a future version. To read from a literal string, wrap it in a 'StringIO' object.\n",
      "  df_temp = pd.read_html(str(table))[0]\n",
      "C:\\Users\\mmari\\AppData\\Local\\Temp\\ipykernel_18516\\2016220777.py:19: FutureWarning: Passing literal html to 'read_html' is deprecated and will be removed in a future version. To read from a literal string, wrap it in a 'StringIO' object.\n",
      "  df_temp = pd.read_html(str(table))[0]\n",
      "C:\\Users\\mmari\\AppData\\Local\\Temp\\ipykernel_18516\\2016220777.py:19: FutureWarning: Passing literal html to 'read_html' is deprecated and will be removed in a future version. To read from a literal string, wrap it in a 'StringIO' object.\n",
      "  df_temp = pd.read_html(str(table))[0]\n",
      "C:\\Users\\mmari\\AppData\\Local\\Temp\\ipykernel_18516\\2016220777.py:26: FutureWarning: Passing literal html to 'read_html' is deprecated and will be removed in a future version. To read from a literal string, wrap it in a 'StringIO' object.\n",
      "  df = pd.read_html(str(table))[0]\n"
     ]
    },
    {
     "data": {
      "text/html": [
       "<div>\n",
       "<style scoped>\n",
       "    .dataframe tbody tr th:only-of-type {\n",
       "        vertical-align: middle;\n",
       "    }\n",
       "\n",
       "    .dataframe tbody tr th {\n",
       "        vertical-align: top;\n",
       "    }\n",
       "\n",
       "    .dataframe thead th {\n",
       "        text-align: right;\n",
       "    }\n",
       "</style>\n",
       "<table border=\"1\" class=\"dataframe\">\n",
       "  <thead>\n",
       "    <tr style=\"text-align: right;\">\n",
       "      <th></th>\n",
       "      <th>Date</th>\n",
       "      <th>Revenue</th>\n",
       "    </tr>\n",
       "  </thead>\n",
       "  <tbody>\n",
       "  </tbody>\n",
       "</table>\n",
       "</div>"
      ],
      "text/plain": [
       "Empty DataFrame\n",
       "Columns: [Date, Revenue]\n",
       "Index: []"
      ]
     },
     "metadata": {},
     "output_type": "display_data"
    }
   ],
   "source": [
    "import pandas as pd\n",
    "import requests\n",
    "from bs4 import BeautifulSoup\n",
    "\n",
    "# URL fija del curso\n",
    "url = \"https://cf-courses-data.s3.us.cloud-object-storage.appdomain.cloud/IBMDeveloperSkillsNetwork-PY0220EN-SkillsNetwork/labs/project/revenue.htm\"\n",
    "\n",
    "# Obtener HTML\n",
    "response = requests.get(url)\n",
    "soup = BeautifulSoup(response.text, \"html.parser\")\n",
    "\n",
    "# Buscar tablas\n",
    "tables = soup.find_all(\"table\")\n",
    "print(f\"🔍 Se encontraron {len(tables)} tablas.\")\n",
    "\n",
    "# Visualizar las primeras líneas de todas las tablas encontradas\n",
    "for idx, table in enumerate(tables):\n",
    "    print(f\"\\n🔎 Vista previa de tabla {idx}:\")\n",
    "    df_temp = pd.read_html(str(table))[0]\n",
    "    print(df_temp.head(3))  # Ver primeras 3 filas para reconocer la correcta\n",
    "\n",
    "# Intentar cargar la tabla específica de Tesla\n",
    "tesla_revenue = None\n",
    "for table in tables:\n",
    "    if \"Tesla Revenue\" in table.text:\n",
    "        df = pd.read_html(str(table))[0]\n",
    "        df.columns = [\"Date\", \"Revenue\"]\n",
    "        tesla_revenue = df\n",
    "        break\n",
    "\n",
    "# Validar si se encontró\n",
    "if tesla_revenue is not None:\n",
    "    print(\"\\n✅ Tabla de ingresos de Tesla encontrada.\")\n",
    "    \n",
    "    # Eliminar filas vacías o que no tengan formato correcto\n",
    "    tesla_revenue[\"Revenue\"] = tesla_revenue[\"Revenue\"].astype(str)\n",
    "    tesla_revenue = tesla_revenue[tesla_revenue[\"Revenue\"].str.contains(r\"\\d\")]\n",
    "    tesla_revenue = tesla_revenue[tesla_revenue[\"Date\"].str.contains(r\"\\d\")]\n",
    "    \n",
    "    tesla_revenue.reset_index(drop=True, inplace=True)\n",
    "    print(\"🟢 Últimas 5 filas:\")\n",
    "    display(tesla_revenue.tail())\n",
    "\n",
    "else:\n",
    "    print(\"❌ No se encontró la tabla de ingresos de Tesla.\")\n"
   ]
  },
  {
   "cell_type": "code",
   "execution_count": 9,
   "metadata": {},
   "outputs": [
    {
     "name": "stdout",
     "output_type": "stream",
     "text": [
      "🟢 Tesla - Datos históricos de acciones:\n"
     ]
    },
    {
     "data": {
      "text/html": [
       "<div>\n",
       "<style scoped>\n",
       "    .dataframe tbody tr th:only-of-type {\n",
       "        vertical-align: middle;\n",
       "    }\n",
       "\n",
       "    .dataframe tbody tr th {\n",
       "        vertical-align: top;\n",
       "    }\n",
       "\n",
       "    .dataframe thead th {\n",
       "        text-align: right;\n",
       "    }\n",
       "</style>\n",
       "<table border=\"1\" class=\"dataframe\">\n",
       "  <thead>\n",
       "    <tr style=\"text-align: right;\">\n",
       "      <th></th>\n",
       "      <th>Date</th>\n",
       "      <th>Open</th>\n",
       "      <th>High</th>\n",
       "      <th>Low</th>\n",
       "      <th>Close</th>\n",
       "      <th>Volume</th>\n",
       "      <th>Dividends</th>\n",
       "      <th>Stock Splits</th>\n",
       "    </tr>\n",
       "  </thead>\n",
       "  <tbody>\n",
       "    <tr>\n",
       "      <th>0</th>\n",
       "      <td>2010-06-29 00:00:00-04:00</td>\n",
       "      <td>1.266667</td>\n",
       "      <td>1.666667</td>\n",
       "      <td>1.169333</td>\n",
       "      <td>1.592667</td>\n",
       "      <td>281494500</td>\n",
       "      <td>0.0</td>\n",
       "      <td>0.0</td>\n",
       "    </tr>\n",
       "    <tr>\n",
       "      <th>1</th>\n",
       "      <td>2010-06-30 00:00:00-04:00</td>\n",
       "      <td>1.719333</td>\n",
       "      <td>2.028000</td>\n",
       "      <td>1.553333</td>\n",
       "      <td>1.588667</td>\n",
       "      <td>257806500</td>\n",
       "      <td>0.0</td>\n",
       "      <td>0.0</td>\n",
       "    </tr>\n",
       "    <tr>\n",
       "      <th>2</th>\n",
       "      <td>2010-07-01 00:00:00-04:00</td>\n",
       "      <td>1.666667</td>\n",
       "      <td>1.728000</td>\n",
       "      <td>1.351333</td>\n",
       "      <td>1.464000</td>\n",
       "      <td>123282000</td>\n",
       "      <td>0.0</td>\n",
       "      <td>0.0</td>\n",
       "    </tr>\n",
       "    <tr>\n",
       "      <th>3</th>\n",
       "      <td>2010-07-02 00:00:00-04:00</td>\n",
       "      <td>1.533333</td>\n",
       "      <td>1.540000</td>\n",
       "      <td>1.247333</td>\n",
       "      <td>1.280000</td>\n",
       "      <td>77097000</td>\n",
       "      <td>0.0</td>\n",
       "      <td>0.0</td>\n",
       "    </tr>\n",
       "    <tr>\n",
       "      <th>4</th>\n",
       "      <td>2010-07-06 00:00:00-04:00</td>\n",
       "      <td>1.333333</td>\n",
       "      <td>1.333333</td>\n",
       "      <td>1.055333</td>\n",
       "      <td>1.074000</td>\n",
       "      <td>103003500</td>\n",
       "      <td>0.0</td>\n",
       "      <td>0.0</td>\n",
       "    </tr>\n",
       "  </tbody>\n",
       "</table>\n",
       "</div>"
      ],
      "text/plain": [
       "                       Date      Open      High       Low     Close  \\\n",
       "0 2010-06-29 00:00:00-04:00  1.266667  1.666667  1.169333  1.592667   \n",
       "1 2010-06-30 00:00:00-04:00  1.719333  2.028000  1.553333  1.588667   \n",
       "2 2010-07-01 00:00:00-04:00  1.666667  1.728000  1.351333  1.464000   \n",
       "3 2010-07-02 00:00:00-04:00  1.533333  1.540000  1.247333  1.280000   \n",
       "4 2010-07-06 00:00:00-04:00  1.333333  1.333333  1.055333  1.074000   \n",
       "\n",
       "      Volume  Dividends  Stock Splits  \n",
       "0  281494500        0.0           0.0  \n",
       "1  257806500        0.0           0.0  \n",
       "2  123282000        0.0           0.0  \n",
       "3   77097000        0.0           0.0  \n",
       "4  103003500        0.0           0.0  "
      ]
     },
     "metadata": {},
     "output_type": "display_data"
    }
   ],
   "source": [
    "# Pregunta 1 - Obtener datos históricos de Tesla\n",
    "import yfinance as yf\n",
    "import pandas as pd\n",
    "\n",
    "tesla = yf.Ticker(\"TSLA\")\n",
    "tesla_data = tesla.history(period=\"max\")\n",
    "\n",
    "# Restablecer índice para tener la columna Date visible\n",
    "tesla_data.reset_index(inplace=True)\n",
    "\n",
    "# Mostrar primeras 5 filas como pide la Pregunta 1\n",
    "print(\"🟢 Tesla - Datos históricos de acciones:\")\n",
    "display(tesla_data.head())\n"
   ]
  },
  {
   "cell_type": "code",
   "execution_count": 10,
   "metadata": {},
   "outputs": [
    {
     "name": "stdout",
     "output_type": "stream",
     "text": [
      "🟢 GameStop - Datos históricos de acciones:\n"
     ]
    },
    {
     "data": {
      "text/html": [
       "<div>\n",
       "<style scoped>\n",
       "    .dataframe tbody tr th:only-of-type {\n",
       "        vertical-align: middle;\n",
       "    }\n",
       "\n",
       "    .dataframe tbody tr th {\n",
       "        vertical-align: top;\n",
       "    }\n",
       "\n",
       "    .dataframe thead th {\n",
       "        text-align: right;\n",
       "    }\n",
       "</style>\n",
       "<table border=\"1\" class=\"dataframe\">\n",
       "  <thead>\n",
       "    <tr style=\"text-align: right;\">\n",
       "      <th></th>\n",
       "      <th>Date</th>\n",
       "      <th>Open</th>\n",
       "      <th>High</th>\n",
       "      <th>Low</th>\n",
       "      <th>Close</th>\n",
       "      <th>Volume</th>\n",
       "      <th>Dividends</th>\n",
       "      <th>Stock Splits</th>\n",
       "    </tr>\n",
       "  </thead>\n",
       "  <tbody>\n",
       "    <tr>\n",
       "      <th>0</th>\n",
       "      <td>2002-02-13 00:00:00-05:00</td>\n",
       "      <td>1.620128</td>\n",
       "      <td>1.693350</td>\n",
       "      <td>1.603296</td>\n",
       "      <td>1.691666</td>\n",
       "      <td>76216000</td>\n",
       "      <td>0.0</td>\n",
       "      <td>0.0</td>\n",
       "    </tr>\n",
       "    <tr>\n",
       "      <th>1</th>\n",
       "      <td>2002-02-14 00:00:00-05:00</td>\n",
       "      <td>1.712707</td>\n",
       "      <td>1.716074</td>\n",
       "      <td>1.670626</td>\n",
       "      <td>1.683251</td>\n",
       "      <td>11021600</td>\n",
       "      <td>0.0</td>\n",
       "      <td>0.0</td>\n",
       "    </tr>\n",
       "    <tr>\n",
       "      <th>2</th>\n",
       "      <td>2002-02-15 00:00:00-05:00</td>\n",
       "      <td>1.683250</td>\n",
       "      <td>1.687458</td>\n",
       "      <td>1.658002</td>\n",
       "      <td>1.674834</td>\n",
       "      <td>8389600</td>\n",
       "      <td>0.0</td>\n",
       "      <td>0.0</td>\n",
       "    </tr>\n",
       "    <tr>\n",
       "      <th>3</th>\n",
       "      <td>2002-02-19 00:00:00-05:00</td>\n",
       "      <td>1.666418</td>\n",
       "      <td>1.666418</td>\n",
       "      <td>1.578048</td>\n",
       "      <td>1.607505</td>\n",
       "      <td>7410400</td>\n",
       "      <td>0.0</td>\n",
       "      <td>0.0</td>\n",
       "    </tr>\n",
       "    <tr>\n",
       "      <th>4</th>\n",
       "      <td>2002-02-20 00:00:00-05:00</td>\n",
       "      <td>1.615920</td>\n",
       "      <td>1.662210</td>\n",
       "      <td>1.603296</td>\n",
       "      <td>1.662210</td>\n",
       "      <td>6892800</td>\n",
       "      <td>0.0</td>\n",
       "      <td>0.0</td>\n",
       "    </tr>\n",
       "  </tbody>\n",
       "</table>\n",
       "</div>"
      ],
      "text/plain": [
       "                       Date      Open      High       Low     Close    Volume  \\\n",
       "0 2002-02-13 00:00:00-05:00  1.620128  1.693350  1.603296  1.691666  76216000   \n",
       "1 2002-02-14 00:00:00-05:00  1.712707  1.716074  1.670626  1.683251  11021600   \n",
       "2 2002-02-15 00:00:00-05:00  1.683250  1.687458  1.658002  1.674834   8389600   \n",
       "3 2002-02-19 00:00:00-05:00  1.666418  1.666418  1.578048  1.607505   7410400   \n",
       "4 2002-02-20 00:00:00-05:00  1.615920  1.662210  1.603296  1.662210   6892800   \n",
       "\n",
       "   Dividends  Stock Splits  \n",
       "0        0.0           0.0  \n",
       "1        0.0           0.0  \n",
       "2        0.0           0.0  \n",
       "3        0.0           0.0  \n",
       "4        0.0           0.0  "
      ]
     },
     "metadata": {},
     "output_type": "display_data"
    }
   ],
   "source": [
    "# Pregunta 3 - Obtener datos históricos de GameStop\n",
    "gme = yf.Ticker(\"GME\")\n",
    "gme_data = gme.history(period=\"max\")\n",
    "\n",
    "# Restablecer índice para tener la columna Date visible\n",
    "gme_data.reset_index(inplace=True)\n",
    "\n",
    "# Mostrar primeras 5 filas como pide la Pregunta 3\n",
    "print(\"🟢 GameStop - Datos históricos de acciones:\")\n",
    "display(gme_data.head())\n"
   ]
  },
  {
   "cell_type": "code",
   "execution_count": 12,
   "metadata": {},
   "outputs": [
    {
     "name": "stdout",
     "output_type": "stream",
     "text": [
      "⚠️ No se encontró la tabla de ingresos de GameStop.\n"
     ]
    }
   ],
   "source": [
    "import requests\n",
    "from bs4 import BeautifulSoup\n",
    "import pandas as pd\n",
    "\n",
    "# URL del archivo proporcionado por IBM con los datos estáticos de GME\n",
    "url = \"https://cf-courses-data.s3.us.cloud-object-storage.appdomain.cloud/IBMDeveloperSkillsNetwork-PY0220EN-SkillsNetwork/labs/project/revenue.htm\"\n",
    "\n",
    "# Hacemos la solicitud\n",
    "response = requests.get(url)\n",
    "soup = BeautifulSoup(response.text, \"html.parser\")\n",
    "\n",
    "# Buscar la tabla correcta que contiene \"GameStop\"\n",
    "tables = soup.find_all(\"table\")\n",
    "gme_revenue = None\n",
    "\n",
    "for table in tables:\n",
    "    if \"GameStop Revenue\" in table.text:\n",
    "        gme_revenue = pd.read_html(str(table))[0]\n",
    "        break\n",
    "\n",
    "# Validamos y limpiamos el DataFrame\n",
    "if gme_revenue is not None:\n",
    "    gme_revenue.columns = [\"Date\", \"Revenue\"]\n",
    "    \n",
    "    # Aseguramos que todos los valores de 'Revenue' sean string antes de aplicar .str\n",
    "    gme_revenue[\"Revenue\"] = gme_revenue[\"Revenue\"].astype(str)\n",
    "    \n",
    "    # Limpiar valores\n",
    "    gme_revenue[\"Revenue\"] = gme_revenue[\"Revenue\"].str.replace(\",\", \"\").str.replace(\"$\", \"\")\n",
    "    gme_revenue.dropna(inplace=True)\n",
    "    gme_revenue = gme_revenue[gme_revenue[\"Revenue\"] != \"\"]\n",
    "    \n",
    "    # Mostrar las últimas 5 filas como pide la pregunta\n",
    "    print(\"🟢 GameStop - Ingresos (últimas 5 filas):\")\n",
    "    display(gme_revenue.tail())\n",
    "\n",
    "else:\n",
    "    print(\"⚠️ No se encontró la tabla de ingresos de GameStop.\")\n"
   ]
  },
  {
   "cell_type": "code",
   "execution_count": 13,
   "metadata": {},
   "outputs": [
    {
     "data": {
      "application/vnd.plotly.v1+json": {
       "config": {
        "plotlyServerURL": "https://plot.ly"
       },
       "data": [
        {
         "name": "Precio de cierre",
         "type": "scatter",
         "x": {
          "bdata": "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",
          "dtype": "i2"
         },
         "xaxis": "x",
         "y": {
          "bdata": "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",
          "dtype": "f8"
         },
         "yaxis": "y"
        },
        {
         "name": "Ingresos",
         "type": "bar",
         "x": [],
         "xaxis": "x2",
         "y": [],
         "yaxis": "y2"
        }
       ],
       "layout": {
        "annotations": [
         {
          "font": {
           "size": 16
          },
          "showarrow": false,
          "text": "Tesla Historical Share Price",
          "x": 0.5,
          "xanchor": "center",
          "xref": "paper",
          "y": 1,
          "yanchor": "bottom",
          "yref": "paper"
         },
         {
          "font": {
           "size": 16
          },
          "showarrow": false,
          "text": "Tesla Quarterly Revenue",
          "x": 0.5,
          "xanchor": "center",
          "xref": "paper",
          "y": 0.32000000000000006,
          "yanchor": "bottom",
          "yref": "paper"
         }
        ],
        "height": 600,
        "showlegend": false,
        "template": {
         "data": {
          "bar": [
           {
            "error_x": {
             "color": "#2a3f5f"
            },
            "error_y": {
             "color": "#2a3f5f"
            },
            "marker": {
             "line": {
              "color": "#E5ECF6",
              "width": 0.5
             },
             "pattern": {
              "fillmode": "overlay",
              "size": 10,
              "solidity": 0.2
             }
            },
            "type": "bar"
           }
          ],
          "barpolar": [
           {
            "marker": {
             "line": {
              "color": "#E5ECF6",
              "width": 0.5
             },
             "pattern": {
              "fillmode": "overlay",
              "size": 10,
              "solidity": 0.2
             }
            },
            "type": "barpolar"
           }
          ],
          "carpet": [
           {
            "aaxis": {
             "endlinecolor": "#2a3f5f",
             "gridcolor": "white",
             "linecolor": "white",
             "minorgridcolor": "white",
             "startlinecolor": "#2a3f5f"
            },
            "baxis": {
             "endlinecolor": "#2a3f5f",
             "gridcolor": "white",
             "linecolor": "white",
             "minorgridcolor": "white",
             "startlinecolor": "#2a3f5f"
            },
            "type": "carpet"
           }
          ],
          "choropleth": [
           {
            "colorbar": {
             "outlinewidth": 0,
             "ticks": ""
            },
            "type": "choropleth"
           }
          ],
          "contour": [
           {
            "colorbar": {
             "outlinewidth": 0,
             "ticks": ""
            },
            "colorscale": [
             [
              0,
              "#0d0887"
             ],
             [
              0.1111111111111111,
              "#46039f"
             ],
             [
              0.2222222222222222,
              "#7201a8"
             ],
             [
              0.3333333333333333,
              "#9c179e"
             ],
             [
              0.4444444444444444,
              "#bd3786"
             ],
             [
              0.5555555555555556,
              "#d8576b"
             ],
             [
              0.6666666666666666,
              "#ed7953"
             ],
             [
              0.7777777777777778,
              "#fb9f3a"
             ],
             [
              0.8888888888888888,
              "#fdca26"
             ],
             [
              1,
              "#f0f921"
             ]
            ],
            "type": "contour"
           }
          ],
          "contourcarpet": [
           {
            "colorbar": {
             "outlinewidth": 0,
             "ticks": ""
            },
            "type": "contourcarpet"
           }
          ],
          "heatmap": [
           {
            "colorbar": {
             "outlinewidth": 0,
             "ticks": ""
            },
            "colorscale": [
             [
              0,
              "#0d0887"
             ],
             [
              0.1111111111111111,
              "#46039f"
             ],
             [
              0.2222222222222222,
              "#7201a8"
             ],
             [
              0.3333333333333333,
              "#9c179e"
             ],
             [
              0.4444444444444444,
              "#bd3786"
             ],
             [
              0.5555555555555556,
              "#d8576b"
             ],
             [
              0.6666666666666666,
              "#ed7953"
             ],
             [
              0.7777777777777778,
              "#fb9f3a"
             ],
             [
              0.8888888888888888,
              "#fdca26"
             ],
             [
              1,
              "#f0f921"
             ]
            ],
            "type": "heatmap"
           }
          ],
          "histogram": [
           {
            "marker": {
             "pattern": {
              "fillmode": "overlay",
              "size": 10,
              "solidity": 0.2
             }
            },
            "type": "histogram"
           }
          ],
          "histogram2d": [
           {
            "colorbar": {
             "outlinewidth": 0,
             "ticks": ""
            },
            "colorscale": [
             [
              0,
              "#0d0887"
             ],
             [
              0.1111111111111111,
              "#46039f"
             ],
             [
              0.2222222222222222,
              "#7201a8"
             ],
             [
              0.3333333333333333,
              "#9c179e"
             ],
             [
              0.4444444444444444,
              "#bd3786"
             ],
             [
              0.5555555555555556,
              "#d8576b"
             ],
             [
              0.6666666666666666,
              "#ed7953"
             ],
             [
              0.7777777777777778,
              "#fb9f3a"
             ],
             [
              0.8888888888888888,
              "#fdca26"
             ],
             [
              1,
              "#f0f921"
             ]
            ],
            "type": "histogram2d"
           }
          ],
          "histogram2dcontour": [
           {
            "colorbar": {
             "outlinewidth": 0,
             "ticks": ""
            },
            "colorscale": [
             [
              0,
              "#0d0887"
             ],
             [
              0.1111111111111111,
              "#46039f"
             ],
             [
              0.2222222222222222,
              "#7201a8"
             ],
             [
              0.3333333333333333,
              "#9c179e"
             ],
             [
              0.4444444444444444,
              "#bd3786"
             ],
             [
              0.5555555555555556,
              "#d8576b"
             ],
             [
              0.6666666666666666,
              "#ed7953"
             ],
             [
              0.7777777777777778,
              "#fb9f3a"
             ],
             [
              0.8888888888888888,
              "#fdca26"
             ],
             [
              1,
              "#f0f921"
             ]
            ],
            "type": "histogram2dcontour"
           }
          ],
          "mesh3d": [
           {
            "colorbar": {
             "outlinewidth": 0,
             "ticks": ""
            },
            "type": "mesh3d"
           }
          ],
          "parcoords": [
           {
            "line": {
             "colorbar": {
              "outlinewidth": 0,
              "ticks": ""
             }
            },
            "type": "parcoords"
           }
          ],
          "pie": [
           {
            "automargin": true,
            "type": "pie"
           }
          ],
          "scatter": [
           {
            "fillpattern": {
             "fillmode": "overlay",
             "size": 10,
             "solidity": 0.2
            },
            "type": "scatter"
           }
          ],
          "scatter3d": [
           {
            "line": {
             "colorbar": {
              "outlinewidth": 0,
              "ticks": ""
             }
            },
            "marker": {
             "colorbar": {
              "outlinewidth": 0,
              "ticks": ""
             }
            },
            "type": "scatter3d"
           }
          ],
          "scattercarpet": [
           {
            "marker": {
             "colorbar": {
              "outlinewidth": 0,
              "ticks": ""
             }
            },
            "type": "scattercarpet"
           }
          ],
          "scattergeo": [
           {
            "marker": {
             "colorbar": {
              "outlinewidth": 0,
              "ticks": ""
             }
            },
            "type": "scattergeo"
           }
          ],
          "scattergl": [
           {
            "marker": {
             "colorbar": {
              "outlinewidth": 0,
              "ticks": ""
             }
            },
            "type": "scattergl"
           }
          ],
          "scattermap": [
           {
            "marker": {
             "colorbar": {
              "outlinewidth": 0,
              "ticks": ""
             }
            },
            "type": "scattermap"
           }
          ],
          "scattermapbox": [
           {
            "marker": {
             "colorbar": {
              "outlinewidth": 0,
              "ticks": ""
             }
            },
            "type": "scattermapbox"
           }
          ],
          "scatterpolar": [
           {
            "marker": {
             "colorbar": {
              "outlinewidth": 0,
              "ticks": ""
             }
            },
            "type": "scatterpolar"
           }
          ],
          "scatterpolargl": [
           {
            "marker": {
             "colorbar": {
              "outlinewidth": 0,
              "ticks": ""
             }
            },
            "type": "scatterpolargl"
           }
          ],
          "scatterternary": [
           {
            "marker": {
             "colorbar": {
              "outlinewidth": 0,
              "ticks": ""
             }
            },
            "type": "scatterternary"
           }
          ],
          "surface": [
           {
            "colorbar": {
             "outlinewidth": 0,
             "ticks": ""
            },
            "colorscale": [
             [
              0,
              "#0d0887"
             ],
             [
              0.1111111111111111,
              "#46039f"
             ],
             [
              0.2222222222222222,
              "#7201a8"
             ],
             [
              0.3333333333333333,
              "#9c179e"
             ],
             [
              0.4444444444444444,
              "#bd3786"
             ],
             [
              0.5555555555555556,
              "#d8576b"
             ],
             [
              0.6666666666666666,
              "#ed7953"
             ],
             [
              0.7777777777777778,
              "#fb9f3a"
             ],
             [
              0.8888888888888888,
              "#fdca26"
             ],
             [
              1,
              "#f0f921"
             ]
            ],
            "type": "surface"
           }
          ],
          "table": [
           {
            "cells": {
             "fill": {
              "color": "#EBF0F8"
             },
             "line": {
              "color": "white"
             }
            },
            "header": {
             "fill": {
              "color": "#C8D4E3"
             },
             "line": {
              "color": "white"
             }
            },
            "type": "table"
           }
          ]
         },
         "layout": {
          "annotationdefaults": {
           "arrowcolor": "#2a3f5f",
           "arrowhead": 0,
           "arrowwidth": 1
          },
          "autotypenumbers": "strict",
          "coloraxis": {
           "colorbar": {
            "outlinewidth": 0,
            "ticks": ""
           }
          },
          "colorscale": {
           "diverging": [
            [
             0,
             "#8e0152"
            ],
            [
             0.1,
             "#c51b7d"
            ],
            [
             0.2,
             "#de77ae"
            ],
            [
             0.3,
             "#f1b6da"
            ],
            [
             0.4,
             "#fde0ef"
            ],
            [
             0.5,
             "#f7f7f7"
            ],
            [
             0.6,
             "#e6f5d0"
            ],
            [
             0.7,
             "#b8e186"
            ],
            [
             0.8,
             "#7fbc41"
            ],
            [
             0.9,
             "#4d9221"
            ],
            [
             1,
             "#276419"
            ]
           ],
           "sequential": [
            [
             0,
             "#0d0887"
            ],
            [
             0.1111111111111111,
             "#46039f"
            ],
            [
             0.2222222222222222,
             "#7201a8"
            ],
            [
             0.3333333333333333,
             "#9c179e"
            ],
            [
             0.4444444444444444,
             "#bd3786"
            ],
            [
             0.5555555555555556,
             "#d8576b"
            ],
            [
             0.6666666666666666,
             "#ed7953"
            ],
            [
             0.7777777777777778,
             "#fb9f3a"
            ],
            [
             0.8888888888888888,
             "#fdca26"
            ],
            [
             1,
             "#f0f921"
            ]
           ],
           "sequentialminus": [
            [
             0,
             "#0d0887"
            ],
            [
             0.1111111111111111,
             "#46039f"
            ],
            [
             0.2222222222222222,
             "#7201a8"
            ],
            [
             0.3333333333333333,
             "#9c179e"
            ],
            [
             0.4444444444444444,
             "#bd3786"
            ],
            [
             0.5555555555555556,
             "#d8576b"
            ],
            [
             0.6666666666666666,
             "#ed7953"
            ],
            [
             0.7777777777777778,
             "#fb9f3a"
            ],
            [
             0.8888888888888888,
             "#fdca26"
            ],
            [
             1,
             "#f0f921"
            ]
           ]
          },
          "colorway": [
           "#636efa",
           "#EF553B",
           "#00cc96",
           "#ab63fa",
           "#FFA15A",
           "#19d3f3",
           "#FF6692",
           "#B6E880",
           "#FF97FF",
           "#FECB52"
          ],
          "font": {
           "color": "#2a3f5f"
          },
          "geo": {
           "bgcolor": "white",
           "lakecolor": "white",
           "landcolor": "#E5ECF6",
           "showlakes": true,
           "showland": true,
           "subunitcolor": "white"
          },
          "hoverlabel": {
           "align": "left"
          },
          "hovermode": "closest",
          "mapbox": {
           "style": "light"
          },
          "paper_bgcolor": "white",
          "plot_bgcolor": "#E5ECF6",
          "polar": {
           "angularaxis": {
            "gridcolor": "white",
            "linecolor": "white",
            "ticks": ""
           },
           "bgcolor": "#E5ECF6",
           "radialaxis": {
            "gridcolor": "white",
            "linecolor": "white",
            "ticks": ""
           }
          },
          "scene": {
           "xaxis": {
            "backgroundcolor": "#E5ECF6",
            "gridcolor": "white",
            "gridwidth": 2,
            "linecolor": "white",
            "showbackground": true,
            "ticks": "",
            "zerolinecolor": "white"
           },
           "yaxis": {
            "backgroundcolor": "#E5ECF6",
            "gridcolor": "white",
            "gridwidth": 2,
            "linecolor": "white",
            "showbackground": true,
            "ticks": "",
            "zerolinecolor": "white"
           },
           "zaxis": {
            "backgroundcolor": "#E5ECF6",
            "gridcolor": "white",
            "gridwidth": 2,
            "linecolor": "white",
            "showbackground": true,
            "ticks": "",
            "zerolinecolor": "white"
           }
          },
          "shapedefaults": {
           "line": {
            "color": "#2a3f5f"
           }
          },
          "ternary": {
           "aaxis": {
            "gridcolor": "white",
            "linecolor": "white",
            "ticks": ""
           },
           "baxis": {
            "gridcolor": "white",
            "linecolor": "white",
            "ticks": ""
           },
           "bgcolor": "#E5ECF6",
           "caxis": {
            "gridcolor": "white",
            "linecolor": "white",
            "ticks": ""
           }
          },
          "title": {
           "x": 0.05
          },
          "xaxis": {
           "automargin": true,
           "gridcolor": "white",
           "linecolor": "white",
           "ticks": "",
           "title": {
            "standoff": 15
           },
           "zerolinecolor": "white",
           "zerolinewidth": 2
          },
          "yaxis": {
           "automargin": true,
           "gridcolor": "white",
           "linecolor": "white",
           "ticks": "",
           "title": {
            "standoff": 15
           },
           "zerolinecolor": "white",
           "zerolinewidth": 2
          }
         }
        },
        "title": {
         "text": "Tesla Stock Price and Revenue"
        },
        "width": 800,
        "xaxis": {
         "anchor": "y",
         "domain": [
          0,
          1
         ],
         "matches": "x2",
         "showticklabels": false
        },
        "xaxis2": {
         "anchor": "y2",
         "domain": [
          0,
          1
         ]
        },
        "yaxis": {
         "anchor": "x",
         "domain": [
          0.52,
          1
         ]
        },
        "yaxis2": {
         "anchor": "x2",
         "domain": [
          0,
          0.32000000000000006
         ]
        }
       }
      }
     },
     "metadata": {},
     "output_type": "display_data"
    }
   ],
   "source": [
    "import plotly.graph_objects as go\n",
    "from plotly.subplots import make_subplots\n",
    "\n",
    "# Función para crear el gráfico de precios de acciones\n",
    "def make_graph(stock_data, stock_revenue, stock, title):\n",
    "    fig = make_subplots(rows=2, cols=1, shared_xaxes=True,\n",
    "                        vertical_spacing=0.2,\n",
    "                        subplot_titles=(f\"{title} Historical Share Price\", f\"{title} Quarterly Revenue\"),\n",
    "                        row_width=[0.4, 0.6])\n",
    "\n",
    "    # Gráfico de líneas del precio de cierre\n",
    "    fig.add_trace(go.Scatter(x=stock_data.index, y=stock_data['Close'], name=\"Precio de cierre\"),\n",
    "                  row=1, col=1)\n",
    "\n",
    "    # Gráfico de barras del ingreso trimestral\n",
    "    fig.add_trace(go.Bar(x=stock_revenue['Date'], y=stock_revenue['Revenue'], name=\"Ingresos\"),\n",
    "                  row=2, col=1)\n",
    "\n",
    "    fig.update_layout(height=600, width=800,\n",
    "                      title_text=f\"{title} Stock Price and Revenue\",\n",
    "                      showlegend=False)\n",
    "    \n",
    "    fig.show()\n",
    "\n",
    "# Llamar a la función para Tesla\n",
    "make_graph(tesla_data, tesla_revenue, 'Tesla', 'Tesla')\n"
   ]
  },
  {
   "cell_type": "code",
   "execution_count": 16,
   "metadata": {},
   "outputs": [
    {
     "name": "stdout",
     "output_type": "stream",
     "text": [
      "✅ Últimos ingresos de GameStop:\n",
      "Empty DataFrame\n",
      "Columns: [Date, Revenue]\n",
      "Index: []\n"
     ]
    },
    {
     "data": {
      "application/vnd.plotly.v1+json": {
       "config": {
        "plotlyServerURL": "https://plot.ly"
       },
       "data": [
        {
         "name": "Precio de cierre",
         "type": "scatter",
         "x": {
          "bdata": "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",
          "dtype": "i2"
         },
         "xaxis": "x",
         "y": {
          "bdata": "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",
          "dtype": "f8"
         },
         "yaxis": "y"
        },
        {
         "name": "Ingresos",
         "type": "bar",
         "x": [],
         "xaxis": "x2",
         "y": [],
         "yaxis": "y2"
        }
       ],
       "layout": {
        "annotations": [
         {
          "font": {
           "size": 16
          },
          "showarrow": false,
          "text": "GameStop Stock Price and Revenue Historical Share Price",
          "x": 0.5,
          "xanchor": "center",
          "xref": "paper",
          "y": 1,
          "yanchor": "bottom",
          "yref": "paper"
         },
         {
          "font": {
           "size": 16
          },
          "showarrow": false,
          "text": "GameStop Stock Price and Revenue Quarterly Revenue",
          "x": 0.5,
          "xanchor": "center",
          "xref": "paper",
          "y": 0.32000000000000006,
          "yanchor": "bottom",
          "yref": "paper"
         }
        ],
        "height": 600,
        "showlegend": false,
        "template": {
         "data": {
          "bar": [
           {
            "error_x": {
             "color": "#2a3f5f"
            },
            "error_y": {
             "color": "#2a3f5f"
            },
            "marker": {
             "line": {
              "color": "#E5ECF6",
              "width": 0.5
             },
             "pattern": {
              "fillmode": "overlay",
              "size": 10,
              "solidity": 0.2
             }
            },
            "type": "bar"
           }
          ],
          "barpolar": [
           {
            "marker": {
             "line": {
              "color": "#E5ECF6",
              "width": 0.5
             },
             "pattern": {
              "fillmode": "overlay",
              "size": 10,
              "solidity": 0.2
             }
            },
            "type": "barpolar"
           }
          ],
          "carpet": [
           {
            "aaxis": {
             "endlinecolor": "#2a3f5f",
             "gridcolor": "white",
             "linecolor": "white",
             "minorgridcolor": "white",
             "startlinecolor": "#2a3f5f"
            },
            "baxis": {
             "endlinecolor": "#2a3f5f",
             "gridcolor": "white",
             "linecolor": "white",
             "minorgridcolor": "white",
             "startlinecolor": "#2a3f5f"
            },
            "type": "carpet"
           }
          ],
          "choropleth": [
           {
            "colorbar": {
             "outlinewidth": 0,
             "ticks": ""
            },
            "type": "choropleth"
           }
          ],
          "contour": [
           {
            "colorbar": {
             "outlinewidth": 0,
             "ticks": ""
            },
            "colorscale": [
             [
              0,
              "#0d0887"
             ],
             [
              0.1111111111111111,
              "#46039f"
             ],
             [
              0.2222222222222222,
              "#7201a8"
             ],
             [
              0.3333333333333333,
              "#9c179e"
             ],
             [
              0.4444444444444444,
              "#bd3786"
             ],
             [
              0.5555555555555556,
              "#d8576b"
             ],
             [
              0.6666666666666666,
              "#ed7953"
             ],
             [
              0.7777777777777778,
              "#fb9f3a"
             ],
             [
              0.8888888888888888,
              "#fdca26"
             ],
             [
              1,
              "#f0f921"
             ]
            ],
            "type": "contour"
           }
          ],
          "contourcarpet": [
           {
            "colorbar": {
             "outlinewidth": 0,
             "ticks": ""
            },
            "type": "contourcarpet"
           }
          ],
          "heatmap": [
           {
            "colorbar": {
             "outlinewidth": 0,
             "ticks": ""
            },
            "colorscale": [
             [
              0,
              "#0d0887"
             ],
             [
              0.1111111111111111,
              "#46039f"
             ],
             [
              0.2222222222222222,
              "#7201a8"
             ],
             [
              0.3333333333333333,
              "#9c179e"
             ],
             [
              0.4444444444444444,
              "#bd3786"
             ],
             [
              0.5555555555555556,
              "#d8576b"
             ],
             [
              0.6666666666666666,
              "#ed7953"
             ],
             [
              0.7777777777777778,
              "#fb9f3a"
             ],
             [
              0.8888888888888888,
              "#fdca26"
             ],
             [
              1,
              "#f0f921"
             ]
            ],
            "type": "heatmap"
           }
          ],
          "histogram": [
           {
            "marker": {
             "pattern": {
              "fillmode": "overlay",
              "size": 10,
              "solidity": 0.2
             }
            },
            "type": "histogram"
           }
          ],
          "histogram2d": [
           {
            "colorbar": {
             "outlinewidth": 0,
             "ticks": ""
            },
            "colorscale": [
             [
              0,
              "#0d0887"
             ],
             [
              0.1111111111111111,
              "#46039f"
             ],
             [
              0.2222222222222222,
              "#7201a8"
             ],
             [
              0.3333333333333333,
              "#9c179e"
             ],
             [
              0.4444444444444444,
              "#bd3786"
             ],
             [
              0.5555555555555556,
              "#d8576b"
             ],
             [
              0.6666666666666666,
              "#ed7953"
             ],
             [
              0.7777777777777778,
              "#fb9f3a"
             ],
             [
              0.8888888888888888,
              "#fdca26"
             ],
             [
              1,
              "#f0f921"
             ]
            ],
            "type": "histogram2d"
           }
          ],
          "histogram2dcontour": [
           {
            "colorbar": {
             "outlinewidth": 0,
             "ticks": ""
            },
            "colorscale": [
             [
              0,
              "#0d0887"
             ],
             [
              0.1111111111111111,
              "#46039f"
             ],
             [
              0.2222222222222222,
              "#7201a8"
             ],
             [
              0.3333333333333333,
              "#9c179e"
             ],
             [
              0.4444444444444444,
              "#bd3786"
             ],
             [
              0.5555555555555556,
              "#d8576b"
             ],
             [
              0.6666666666666666,
              "#ed7953"
             ],
             [
              0.7777777777777778,
              "#fb9f3a"
             ],
             [
              0.8888888888888888,
              "#fdca26"
             ],
             [
              1,
              "#f0f921"
             ]
            ],
            "type": "histogram2dcontour"
           }
          ],
          "mesh3d": [
           {
            "colorbar": {
             "outlinewidth": 0,
             "ticks": ""
            },
            "type": "mesh3d"
           }
          ],
          "parcoords": [
           {
            "line": {
             "colorbar": {
              "outlinewidth": 0,
              "ticks": ""
             }
            },
            "type": "parcoords"
           }
          ],
          "pie": [
           {
            "automargin": true,
            "type": "pie"
           }
          ],
          "scatter": [
           {
            "fillpattern": {
             "fillmode": "overlay",
             "size": 10,
             "solidity": 0.2
            },
            "type": "scatter"
           }
          ],
          "scatter3d": [
           {
            "line": {
             "colorbar": {
              "outlinewidth": 0,
              "ticks": ""
             }
            },
            "marker": {
             "colorbar": {
              "outlinewidth": 0,
              "ticks": ""
             }
            },
            "type": "scatter3d"
           }
          ],
          "scattercarpet": [
           {
            "marker": {
             "colorbar": {
              "outlinewidth": 0,
              "ticks": ""
             }
            },
            "type": "scattercarpet"
           }
          ],
          "scattergeo": [
           {
            "marker": {
             "colorbar": {
              "outlinewidth": 0,
              "ticks": ""
             }
            },
            "type": "scattergeo"
           }
          ],
          "scattergl": [
           {
            "marker": {
             "colorbar": {
              "outlinewidth": 0,
              "ticks": ""
             }
            },
            "type": "scattergl"
           }
          ],
          "scattermap": [
           {
            "marker": {
             "colorbar": {
              "outlinewidth": 0,
              "ticks": ""
             }
            },
            "type": "scattermap"
           }
          ],
          "scattermapbox": [
           {
            "marker": {
             "colorbar": {
              "outlinewidth": 0,
              "ticks": ""
             }
            },
            "type": "scattermapbox"
           }
          ],
          "scatterpolar": [
           {
            "marker": {
             "colorbar": {
              "outlinewidth": 0,
              "ticks": ""
             }
            },
            "type": "scatterpolar"
           }
          ],
          "scatterpolargl": [
           {
            "marker": {
             "colorbar": {
              "outlinewidth": 0,
              "ticks": ""
             }
            },
            "type": "scatterpolargl"
           }
          ],
          "scatterternary": [
           {
            "marker": {
             "colorbar": {
              "outlinewidth": 0,
              "ticks": ""
             }
            },
            "type": "scatterternary"
           }
          ],
          "surface": [
           {
            "colorbar": {
             "outlinewidth": 0,
             "ticks": ""
            },
            "colorscale": [
             [
              0,
              "#0d0887"
             ],
             [
              0.1111111111111111,
              "#46039f"
             ],
             [
              0.2222222222222222,
              "#7201a8"
             ],
             [
              0.3333333333333333,
              "#9c179e"
             ],
             [
              0.4444444444444444,
              "#bd3786"
             ],
             [
              0.5555555555555556,
              "#d8576b"
             ],
             [
              0.6666666666666666,
              "#ed7953"
             ],
             [
              0.7777777777777778,
              "#fb9f3a"
             ],
             [
              0.8888888888888888,
              "#fdca26"
             ],
             [
              1,
              "#f0f921"
             ]
            ],
            "type": "surface"
           }
          ],
          "table": [
           {
            "cells": {
             "fill": {
              "color": "#EBF0F8"
             },
             "line": {
              "color": "white"
             }
            },
            "header": {
             "fill": {
              "color": "#C8D4E3"
             },
             "line": {
              "color": "white"
             }
            },
            "type": "table"
           }
          ]
         },
         "layout": {
          "annotationdefaults": {
           "arrowcolor": "#2a3f5f",
           "arrowhead": 0,
           "arrowwidth": 1
          },
          "autotypenumbers": "strict",
          "coloraxis": {
           "colorbar": {
            "outlinewidth": 0,
            "ticks": ""
           }
          },
          "colorscale": {
           "diverging": [
            [
             0,
             "#8e0152"
            ],
            [
             0.1,
             "#c51b7d"
            ],
            [
             0.2,
             "#de77ae"
            ],
            [
             0.3,
             "#f1b6da"
            ],
            [
             0.4,
             "#fde0ef"
            ],
            [
             0.5,
             "#f7f7f7"
            ],
            [
             0.6,
             "#e6f5d0"
            ],
            [
             0.7,
             "#b8e186"
            ],
            [
             0.8,
             "#7fbc41"
            ],
            [
             0.9,
             "#4d9221"
            ],
            [
             1,
             "#276419"
            ]
           ],
           "sequential": [
            [
             0,
             "#0d0887"
            ],
            [
             0.1111111111111111,
             "#46039f"
            ],
            [
             0.2222222222222222,
             "#7201a8"
            ],
            [
             0.3333333333333333,
             "#9c179e"
            ],
            [
             0.4444444444444444,
             "#bd3786"
            ],
            [
             0.5555555555555556,
             "#d8576b"
            ],
            [
             0.6666666666666666,
             "#ed7953"
            ],
            [
             0.7777777777777778,
             "#fb9f3a"
            ],
            [
             0.8888888888888888,
             "#fdca26"
            ],
            [
             1,
             "#f0f921"
            ]
           ],
           "sequentialminus": [
            [
             0,
             "#0d0887"
            ],
            [
             0.1111111111111111,
             "#46039f"
            ],
            [
             0.2222222222222222,
             "#7201a8"
            ],
            [
             0.3333333333333333,
             "#9c179e"
            ],
            [
             0.4444444444444444,
             "#bd3786"
            ],
            [
             0.5555555555555556,
             "#d8576b"
            ],
            [
             0.6666666666666666,
             "#ed7953"
            ],
            [
             0.7777777777777778,
             "#fb9f3a"
            ],
            [
             0.8888888888888888,
             "#fdca26"
            ],
            [
             1,
             "#f0f921"
            ]
           ]
          },
          "colorway": [
           "#636efa",
           "#EF553B",
           "#00cc96",
           "#ab63fa",
           "#FFA15A",
           "#19d3f3",
           "#FF6692",
           "#B6E880",
           "#FF97FF",
           "#FECB52"
          ],
          "font": {
           "color": "#2a3f5f"
          },
          "geo": {
           "bgcolor": "white",
           "lakecolor": "white",
           "landcolor": "#E5ECF6",
           "showlakes": true,
           "showland": true,
           "subunitcolor": "white"
          },
          "hoverlabel": {
           "align": "left"
          },
          "hovermode": "closest",
          "mapbox": {
           "style": "light"
          },
          "paper_bgcolor": "white",
          "plot_bgcolor": "#E5ECF6",
          "polar": {
           "angularaxis": {
            "gridcolor": "white",
            "linecolor": "white",
            "ticks": ""
           },
           "bgcolor": "#E5ECF6",
           "radialaxis": {
            "gridcolor": "white",
            "linecolor": "white",
            "ticks": ""
           }
          },
          "scene": {
           "xaxis": {
            "backgroundcolor": "#E5ECF6",
            "gridcolor": "white",
            "gridwidth": 2,
            "linecolor": "white",
            "showbackground": true,
            "ticks": "",
            "zerolinecolor": "white"
           },
           "yaxis": {
            "backgroundcolor": "#E5ECF6",
            "gridcolor": "white",
            "gridwidth": 2,
            "linecolor": "white",
            "showbackground": true,
            "ticks": "",
            "zerolinecolor": "white"
           },
           "zaxis": {
            "backgroundcolor": "#E5ECF6",
            "gridcolor": "white",
            "gridwidth": 2,
            "linecolor": "white",
            "showbackground": true,
            "ticks": "",
            "zerolinecolor": "white"
           }
          },
          "shapedefaults": {
           "line": {
            "color": "#2a3f5f"
           }
          },
          "ternary": {
           "aaxis": {
            "gridcolor": "white",
            "linecolor": "white",
            "ticks": ""
           },
           "baxis": {
            "gridcolor": "white",
            "linecolor": "white",
            "ticks": ""
           },
           "bgcolor": "#E5ECF6",
           "caxis": {
            "gridcolor": "white",
            "linecolor": "white",
            "ticks": ""
           }
          },
          "title": {
           "x": 0.05
          },
          "xaxis": {
           "automargin": true,
           "gridcolor": "white",
           "linecolor": "white",
           "ticks": "",
           "title": {
            "standoff": 15
           },
           "zerolinecolor": "white",
           "zerolinewidth": 2
          },
          "yaxis": {
           "automargin": true,
           "gridcolor": "white",
           "linecolor": "white",
           "ticks": "",
           "title": {
            "standoff": 15
           },
           "zerolinecolor": "white",
           "zerolinewidth": 2
          }
         }
        },
        "title": {
         "text": "GameStop Stock Price and Revenue Stock Price and Revenue"
        },
        "width": 800,
        "xaxis": {
         "anchor": "y",
         "domain": [
          0,
          1
         ],
         "matches": "x2",
         "showticklabels": false
        },
        "xaxis2": {
         "anchor": "y2",
         "domain": [
          0,
          1
         ]
        },
        "yaxis": {
         "anchor": "x",
         "domain": [
          0.52,
          1
         ]
        },
        "yaxis2": {
         "anchor": "x2",
         "domain": [
          0,
          0.32000000000000006
         ]
        }
       }
      }
     },
     "metadata": {},
     "output_type": "display_data"
    }
   ],
   "source": [
    "import requests\n",
    "import pandas as pd\n",
    "from bs4 import BeautifulSoup\n",
    "\n",
    "# Función corregida para obtener ingresos de GameStop\n",
    "def get_gme_revenue():\n",
    "    url = \"https://cf-courses-data.s3.us.cloud-object-storage.appdomain.cloud/IBMDeveloperSkillsNetwork-PY0220EN-SkillsNetwork/labs/project/revenue.htm\"\n",
    "    r = requests.get(url)\n",
    "    soup = BeautifulSoup(r.text, \"html.parser\")\n",
    "    tables = soup.find_all(\"table\")\n",
    "\n",
    "    for table in tables:\n",
    "        if \"GameStop Revenue\" in table.text:\n",
    "            df = pd.read_html(str(table))[0]\n",
    "            df.columns = [\"Date\", \"Revenue\"]\n",
    "            df = df[df[\"Revenue\"].astype(str).str.contains(r\"\\$\")]  # nos aseguramos de mantener solo filas válidas\n",
    "            return df.reset_index(drop=True)\n",
    "\n",
    "    return pd.DataFrame(columns=[\"Date\", \"Revenue\"])  # Retorna dataframe vacío si no encuentra\n",
    "\n",
    "# Ejecutar función\n",
    "gme_revenue = get_gme_revenue()\n",
    "\n",
    "# Mostrar últimas 5 filas como prueba\n",
    "print(\"✅ Últimos ingresos de GameStop:\")\n",
    "print(gme_revenue.tail())\n",
    "\n",
    "make_graph(gme_data, gme_revenue, 'GameStop', 'GameStop Stock Price and Revenue')\n"
   ]
  }
 ],
 "metadata": {
  "kernelspec": {
   "display_name": "Python 3",
   "language": "python",
   "name": "python3"
  },
  "language_info": {
   "codemirror_mode": {
    "name": "ipython",
    "version": 3
   },
   "file_extension": ".py",
   "mimetype": "text/x-python",
   "name": "python",
   "nbconvert_exporter": "python",
   "pygments_lexer": "ipython3",
   "version": "3.11.9"
  }
 },
 "nbformat": 4,
 "nbformat_minor": 2
}
